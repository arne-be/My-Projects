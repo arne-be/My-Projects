{
 "cells": [
  {
   "cell_type": "markdown",
   "metadata": {
    "colab_type": "text",
    "id": "EzfnlG_gKLhF"
   },
   "source": [
    "# <center> Project 02: Application of classification in Marketing and Sales </center>"
   ]
  },
  {
   "cell_type": "markdown",
   "metadata": {
    "colab_type": "text",
    "id": "jdPg2j8dKLhG"
   },
   "source": [
    "# Seminar goals:\n",
    "In this project, we will develop and apply different supervised classification tecnhiques. These methodologies are broadly used in business to multiple use cases as:\n",
    "- identify **new customers** in the market\n",
    "- identify customers in our internal Data Warehouse with **more likely** to buy a new product\n",
    "- identify unsatisfied customers and thus, likely to be **churners**\n",
    "- classify text into categories for spam identification or to process messages or emails from our customers\n",
    "\n",
    "During this project we will follow the end-to-end Machine Learning process: from data gathering and cleaning, exploratory data analysis, feature engineering and finally, training and prediction. In particular, the main sections of this project are:\n",
    "1. Data understanding and preparation: exploration of the dataset and feature engineering (missing values, outlier identification, categorical variables management) \n",
    "2. Model Training: training the baseline SVM and Decision Trees. Analysis of metrics (recall, precision, confusion metrics) and improvement the classification through several techniques as undersampling to balance or ensemble of models\n",
    "3. Creating a Business opportunity with Machine Learning: selection of the best model and identification of the most important features\n",
    "\n",
    "\n",
    "\n",
    "We will apply all these techniques to identify new customers to capture and improve sales in a **marketing use case**."
   ]
  },
  {
   "cell_type": "markdown",
   "metadata": {
    "colab_type": "text",
    "id": "UYAFrceqKLhH"
   },
   "source": [
    "### Due date: up to June 17th, 23:55h. \n",
    "### Submission procedure: via Moodle."
   ]
  },
  {
   "cell_type": "markdown",
   "metadata": {
    "colab_type": "text",
    "id": "-A4_3DZEKLhI"
   },
   "source": [
    "*******"
   ]
  },
  {
   "cell_type": "markdown",
   "metadata": {
    "colab_type": "text",
    "id": "FZY4NReQKLhI"
   },
   "source": [
    "# 0. Context:  Using Machine Learning to increase our customers base"
   ]
  },
  {
   "cell_type": "markdown",
   "metadata": {
    "colab_type": "text",
    "id": "diyA2X3aKLhJ"
   },
   "source": [
    "We work as a head of data science and AI in a new Internet of Things (IoT) company. Our company designs, builds and implements wireless IoT products.\n",
    "\n",
    "Our marketing colleagues are planning to launch a new commercial campaign for capturing new customers. We have to decide which companies are the target to be visited by our sales managers. As the cost to send a sales manager to visit a potential customer is quite high, we have to select from the total market base, those companies that are more likely to buy any of our products and become a new customer. \n",
    "\n",
    "To support this new campaign, we are **using several of the most important classification techniques**. We will manage key evaluation aspects of a classification as **recall, precision, false positive, etc...** to decide which are the best potential customers. \n"
   ]
  },
  {
   "cell_type": "markdown",
   "metadata": {
    "colab_type": "text",
    "id": "1hxQ0QtwKLhK"
   },
   "source": [
    "## 0.1 Dataset"
   ]
  },
  {
   "cell_type": "markdown",
   "metadata": {
    "colab_type": "text",
    "id": "uRr4nn5-KLhK"
   },
   "source": [
    "In this practice we are using a new dataset named `market_dt.csv`. This file contains information of **IoT market**, i.e. companies that could be interested to buy IoT products or they have already. In particular, the detailed information for each customer is:\n",
    "- *City*: Name of the city where the company is located\n",
    "- *Customer_Flag*: It is a flag that is 1 for current customers and 0 for non-customers\n",
    "- *Revenue*: The annual incomes of the company\n",
    "- *Sector*: It's an integer that identifies the sector of the company's activity\n",
    "- *CNT_EMPLOYEE*: Number of employees of the company\n",
    "- *CNT_CB_DENSITY*: Number of companies close\n",
    "- *CNT_CB_MOB_DENSITY*: Number of companies with mobile services\n",
    "- *CNT_CB_FN_DENSITY*: Number of companies with fixed services\n",
    "- *Legal_Form_Code*: It's an integer that identifies the legal type of the company: big, small or medium company\n",
    "- *Mobile potential*: It's an estimation of the total annual expense that a company can do in telco services, including IoT"
   ]
  },
  {
   "cell_type": "markdown",
   "metadata": {
    "colab_type": "text",
    "id": "6U4Sxn_kKLhL"
   },
   "source": [
    "## 0.2. Imports"
   ]
  },
  {
   "cell_type": "code",
   "execution_count": 33,
   "metadata": {
    "colab": {},
    "colab_type": "code",
    "id": "t4bx2UI5KLhM"
   },
   "outputs": [],
   "source": [
    "import pandas as pd\n",
    "import numpy as np\n",
    "import matplotlib.pyplot as plt\n",
    "from matplotlib import pyplot\n",
    "import matplotlib.cm as cm\n",
    "import seaborn as sns\n",
    "from scipy.stats import iqr\n",
    "from scipy.stats import chi2_contingency\n",
    "from sklearn.preprocessing import StandardScaler\n",
    "from sklearn.preprocessing import Normalizer\n",
    "from sklearn.preprocessing import MinMaxScaler\n",
    "from sklearn.preprocessing import LabelEncoder\n",
    "from sklearn.model_selection import train_test_split\n",
    "from sklearn.linear_model import SGDClassifier\n",
    "from sklearn.svm import SVC\n",
    "from sklearn.model_selection import train_test_split\n",
    "from sklearn.metrics import accuracy_score, auc, roc_curve, classification_report, confusion_matrix, precision_score, recall_score, precision_recall_curve\n",
    "from sklearn.tree import DecisionTreeClassifier\n",
    "from sklearn.ensemble import RandomForestClassifier, GradientBoostingClassifier, VotingClassifier, AdaBoostClassifier \n",
    "from sklearn.model_selection import KFold\n",
    "from sklearn.model_selection import cross_val_score\n",
    "from sklearn.model_selection import StratifiedKFold"
   ]
  },
  {
   "cell_type": "markdown",
   "metadata": {
    "colab_type": "text",
    "id": "o7OfXFAoKLhP"
   },
   "source": [
    "# 1. Data understanding and preparation"
   ]
  },
  {
   "cell_type": "markdown",
   "metadata": {
    "colab_type": "text",
    "id": "T0GEXTMZKLhQ"
   },
   "source": [
    "The first stage in any Machine Learning project is to have a clear understanding of the dataset from a statistical point of view but also from the perspective of the value of their variables to solve the use case or problem. To achieve this goal we need to \"clean\" and \"transform\" the data. All this process is known as **Data Wrangling**. In particular, the whole data wrangling process implies:\n",
    "- Define and apply an strategy for nulls and coding for categorical variables\n",
    "- Analyze the variables distribution and correlation between them\n",
    "- Remove outliers\n",
    "- etc....\n"
   ]
  },
  {
   "cell_type": "markdown",
   "metadata": {
    "colab_type": "text",
    "id": "tzaVBJ98KLhQ"
   },
   "source": [
    "Let's open the csv with separator \";\" and assign to a dataframe variable (use read_csv from Pandas library). Let's see the top 5 elements."
   ]
  },
  {
   "cell_type": "code",
   "execution_count": 34,
   "metadata": {
    "colab": {},
    "colab_type": "code",
    "id": "t7w8v94aKLhR",
    "outputId": "1d91411a-486a-4340-f9c5-fda71d29d9bd"
   },
   "outputs": [
    {
     "data": {
      "text/html": [
       "<div>\n",
       "<style scoped>\n",
       "    .dataframe tbody tr th:only-of-type {\n",
       "        vertical-align: middle;\n",
       "    }\n",
       "\n",
       "    .dataframe tbody tr th {\n",
       "        vertical-align: top;\n",
       "    }\n",
       "\n",
       "    .dataframe thead th {\n",
       "        text-align: right;\n",
       "    }\n",
       "</style>\n",
       "<table border=\"1\" class=\"dataframe\">\n",
       "  <thead>\n",
       "    <tr style=\"text-align: right;\">\n",
       "      <th></th>\n",
       "      <th>City</th>\n",
       "      <th>Customer_Flag</th>\n",
       "      <th>Revenue</th>\n",
       "      <th>Sector</th>\n",
       "      <th>Legal_Form_Code</th>\n",
       "      <th>CNT_EMPLOYEE</th>\n",
       "      <th>CNT_CB_DENSITY</th>\n",
       "      <th>CNT_CB_MOB_DENSITY</th>\n",
       "      <th>CNT_CB_FN_DENSITY</th>\n",
       "      <th>Mobile_potential</th>\n",
       "    </tr>\n",
       "  </thead>\n",
       "  <tbody>\n",
       "    <tr>\n",
       "      <th>0</th>\n",
       "      <td>Bremen</td>\n",
       "      <td>0</td>\n",
       "      <td>21339309.0</td>\n",
       "      <td>26.0</td>\n",
       "      <td>14.0</td>\n",
       "      <td>25</td>\n",
       "      <td>161.0</td>\n",
       "      <td>154.0</td>\n",
       "      <td>10.0</td>\n",
       "      <td>1783.999887</td>\n",
       "    </tr>\n",
       "    <tr>\n",
       "      <th>1</th>\n",
       "      <td>Steinfurt</td>\n",
       "      <td>0</td>\n",
       "      <td>NaN</td>\n",
       "      <td>74.0</td>\n",
       "      <td>4.0</td>\n",
       "      <td>50</td>\n",
       "      <td>41.0</td>\n",
       "      <td>41.0</td>\n",
       "      <td>1.0</td>\n",
       "      <td>1884.468150</td>\n",
       "    </tr>\n",
       "    <tr>\n",
       "      <th>2</th>\n",
       "      <td>Magdeburg</td>\n",
       "      <td>0</td>\n",
       "      <td>NaN</td>\n",
       "      <td>83.0</td>\n",
       "      <td>28.0</td>\n",
       "      <td>28</td>\n",
       "      <td>188.0</td>\n",
       "      <td>187.0</td>\n",
       "      <td>6.0</td>\n",
       "      <td>1938.651093</td>\n",
       "    </tr>\n",
       "    <tr>\n",
       "      <th>3</th>\n",
       "      <td>Leipzig</td>\n",
       "      <td>0</td>\n",
       "      <td>NaN</td>\n",
       "      <td>61.0</td>\n",
       "      <td>28.0</td>\n",
       "      <td>12</td>\n",
       "      <td>597.0</td>\n",
       "      <td>594.0</td>\n",
       "      <td>21.0</td>\n",
       "      <td>1602.187431</td>\n",
       "    </tr>\n",
       "    <tr>\n",
       "      <th>4</th>\n",
       "      <td>Tamm</td>\n",
       "      <td>0</td>\n",
       "      <td>NaN</td>\n",
       "      <td>74.0</td>\n",
       "      <td>4.0</td>\n",
       "      <td>37</td>\n",
       "      <td>336.0</td>\n",
       "      <td>334.0</td>\n",
       "      <td>10.0</td>\n",
       "      <td>1931.884908</td>\n",
       "    </tr>\n",
       "  </tbody>\n",
       "</table>\n",
       "</div>"
      ],
      "text/plain": [
       "        City  Customer_Flag     Revenue  Sector  Legal_Form_Code  \\\n",
       "0     Bremen              0  21339309.0    26.0             14.0   \n",
       "1  Steinfurt              0         NaN    74.0              4.0   \n",
       "2  Magdeburg              0         NaN    83.0             28.0   \n",
       "3    Leipzig              0         NaN    61.0             28.0   \n",
       "4       Tamm              0         NaN    74.0              4.0   \n",
       "\n",
       "   CNT_EMPLOYEE  CNT_CB_DENSITY  CNT_CB_MOB_DENSITY  CNT_CB_FN_DENSITY  \\\n",
       "0            25           161.0               154.0               10.0   \n",
       "1            50            41.0                41.0                1.0   \n",
       "2            28           188.0               187.0                6.0   \n",
       "3            12           597.0               594.0               21.0   \n",
       "4            37           336.0               334.0               10.0   \n",
       "\n",
       "   Mobile_potential  \n",
       "0       1783.999887  \n",
       "1       1884.468150  \n",
       "2       1938.651093  \n",
       "3       1602.187431  \n",
       "4       1931.884908  "
      ]
     },
     "execution_count": 34,
     "metadata": {},
     "output_type": "execute_result"
    }
   ],
   "source": [
    "market_dt = pd.read_csv('market_dt.csv', usecols={'City', 'Customer_Flag', 'Revenue', 'Sector', 'CNT_EMPLOYEE',\n",
    "                                                 'CNT_CB_DENSITY', 'CNT_CB_MOB_DENSITY', 'CNT_CB_FN_DENSITY',\n",
    "                                                 'Legal_Form_Code','Mobile_potential'}, sep=\";\")\n",
    "market_dt.head()"
   ]
  },
  {
   "cell_type": "markdown",
   "metadata": {
    "colab_type": "text",
    "id": "osFK9XOAKLhV"
   },
   "source": [
    "[**EX1**] [**REPORT**] Let's identify the type of the variables (integer, float, chart...) and the size of the dataset and the file. Which are the variable with more nulls? And with no nulls? Why 'City' variables is considered as object type?\n",
    "\n",
    "Tip: [.info()](https://www.geeksforgeeks.org/python-pandas-dataframe-info/) is a function that reports the main characteristics of a dataframe."
   ]
  },
  {
   "cell_type": "code",
   "execution_count": 35,
   "metadata": {},
   "outputs": [
    {
     "name": "stdout",
     "output_type": "stream",
     "text": [
      "<class 'pandas.core.frame.DataFrame'>\n",
      "RangeIndex: 13335 entries, 0 to 13334\n",
      "Data columns (total 10 columns):\n",
      " #   Column              Non-Null Count  Dtype  \n",
      "---  ------              --------------  -----  \n",
      " 0   City                13335 non-null  object \n",
      " 1   Customer_Flag       13335 non-null  int64  \n",
      " 2   Revenue             8589 non-null   float64\n",
      " 3   Sector              13235 non-null  float64\n",
      " 4   Legal_Form_Code     13229 non-null  float64\n",
      " 5   CNT_EMPLOYEE        13335 non-null  int64  \n",
      " 6   CNT_CB_DENSITY      10265 non-null  float64\n",
      " 7   CNT_CB_MOB_DENSITY  10265 non-null  float64\n",
      " 8   CNT_CB_FN_DENSITY   10265 non-null  float64\n",
      " 9   Mobile_potential    13335 non-null  float64\n",
      "dtypes: float64(7), int64(2), object(1)\n",
      "memory usage: 1.0+ MB\n"
     ]
    }
   ],
   "source": [
    "market_dt.info()"
   ]
  },
  {
   "cell_type": "markdown",
   "metadata": {
    "colab_type": "text",
    "id": "rnjxSOlfKLhZ"
   },
   "source": [
    "Once we have the first contact with the dataset, next step is to decide the strategy to apply to **nulls** values. There are several options as removing the rows with any **null**, assigning a constant value (e.g. median or mean value), etc.... In our case, we are removing the rows with **null** in any of the values."
   ]
  },
  {
   "cell_type": "markdown",
   "metadata": {
    "colab_type": "text",
    "id": "j6WN5zKGKLhZ"
   },
   "source": [
    "[**EX2**] [**CODE**] Eliminate those rows which has nulls in any variable. Let's check that there is no nulls in any variable. Which is the size of the resulting dataset? "
   ]
  },
  {
   "cell_type": "code",
   "execution_count": 36,
   "metadata": {},
   "outputs": [],
   "source": [
    "market_dt = market_dt.dropna(axis=0)"
   ]
  },
  {
   "cell_type": "markdown",
   "metadata": {
    "colab_type": "text",
    "id": "jMAZKlkpKLhf"
   },
   "source": [
    "Your output should look like this:"
   ]
  },
  {
   "cell_type": "code",
   "execution_count": 37,
   "metadata": {
    "colab": {},
    "colab_type": "code",
    "id": "H2dXqQbfKLhf",
    "outputId": "e0b6d8cf-e02e-46ed-bdb6-811b71a0a6b3"
   },
   "outputs": [
    {
     "name": "stdout",
     "output_type": "stream",
     "text": [
      "<class 'pandas.core.frame.DataFrame'>\n",
      "Int64Index: 6987 entries, 0 to 13321\n",
      "Data columns (total 10 columns):\n",
      " #   Column              Non-Null Count  Dtype  \n",
      "---  ------              --------------  -----  \n",
      " 0   City                6987 non-null   object \n",
      " 1   Customer_Flag       6987 non-null   int64  \n",
      " 2   Revenue             6987 non-null   float64\n",
      " 3   Sector              6987 non-null   float64\n",
      " 4   Legal_Form_Code     6987 non-null   float64\n",
      " 5   CNT_EMPLOYEE        6987 non-null   int64  \n",
      " 6   CNT_CB_DENSITY      6987 non-null   float64\n",
      " 7   CNT_CB_MOB_DENSITY  6987 non-null   float64\n",
      " 8   CNT_CB_FN_DENSITY   6987 non-null   float64\n",
      " 9   Mobile_potential    6987 non-null   float64\n",
      "dtypes: float64(7), int64(2), object(1)\n",
      "memory usage: 600.4+ KB\n"
     ]
    }
   ],
   "source": [
    "market_dt.info()"
   ]
  },
  {
   "cell_type": "markdown",
   "metadata": {
    "colab_type": "text",
    "id": "uR4UCXz6KLhj"
   },
   "source": [
    "In Machine Learning, it is key to analyze the variables from a statistical point of view: knowing the distribution of each variable, their mean and median are key to identify any transformation to apply before training the model. \n",
    "Furthermore, due to we are training a classifier (in our case, to classify between ***customers*** and ***non customers***), this analysis should be done for both classes separetly."
   ]
  },
  {
   "cell_type": "markdown",
   "metadata": {
    "colab_type": "text",
    "id": "L2r-IQ7OKLhj"
   },
   "source": [
    "[**EX3**] [**REPORT**] Create a `customer_dt`and `noncustomer_dt`datasets based on the `Customer_Flag`variable (`Customer_Flag`=1 for **customers** and 0 for **noncustomers**). Build a boxplot for the `Revenue`, `CNT_EMPLOYEE`, `Mobile_potential` and `CNT_CB_Density` numeric variables for both datasets. Which are the main differences between `customer_dt`and `noncustomer_dt` datasets comparing these variables. Which is the dataset with `CNT_EMPLOYEE` higher? Which datasets have more outliers in `Revenues`? Which is the Q1, median (=Q2) and Q3 for `Revenues`and `Mobile_potential`?\n",
    "\n",
    "\n",
    "Tip: you may have to use the [boxplot](https://matplotlib.org/3.1.1/api/_as_gen/matplotlib.pyplot.boxplot.html) function."
   ]
  },
  {
   "cell_type": "code",
   "execution_count": 38,
   "metadata": {
    "scrolled": false
   },
   "outputs": [
    {
     "data": {
      "image/png": "[encoded data removed]",
      "text/plain": [
       "<Figure size 720x720 with 4 Axes>"
      ]
     },
     "metadata": {
      "needs_background": "light"
     },
     "output_type": "display_data"
    },
    {
     "data": {
      "text/plain": [
       "0.25     902986.0\n",
       "0.50    1750000.0\n",
       "0.75    3501123.5\n",
       "Name: Revenue, dtype: float64"
      ]
     },
     "execution_count": 38,
     "metadata": {},
     "output_type": "execute_result"
    }
   ],
   "source": [
    "customer_dt = market_dt.drop(market_dt[market_dt.Customer_Flag < 1].index)\n",
    "noncustomer_dt = market_dt.drop(market_dt[market_dt.Customer_Flag > 0].index)\n",
    "\n",
    "labels = ['customer_dt', 'noncustomer_dt']\n",
    "figs, axs = pyplot.subplots(nrows=2, ncols=2, figsize=(10, 10))\n",
    "\n",
    "axs[0,0].boxplot([customer_dt['Revenue'], noncustomer_dt['Revenue']], labels = labels);\n",
    "axs[0,0].set_title('Revenue')\n",
    "\n",
    "axs[0,1].boxplot([customer_dt['CNT_EMPLOYEE'], noncustomer_dt['CNT_EMPLOYEE']], labels = labels);\n",
    "axs[0,1].set_title('CNT_EMPLOYEE')\n",
    "\n",
    "axs[1,0].boxplot([customer_dt['Mobile_potential'], noncustomer_dt['Mobile_potential']], labels = labels);\n",
    "axs[1,0].set_title('Mobile_potential')\n",
    "\n",
    "axs[1,1].boxplot([customer_dt['CNT_CB_DENSITY'], noncustomer_dt['CNT_CB_DENSITY']], labels = labels);\n",
    "axs[1,1].set_title('CNT_CB_DENSITY')\n",
    "\n",
    "figs.subplots_adjust(hspace=0.4)\n",
    "pyplot.show()\n",
    "\n",
    "noncustomer_dt['Revenue'].quantile([0.25,0.5,0.75])\n",
    "\n"
   ]
  },
  {
   "cell_type": "markdown",
   "metadata": {
    "colab_type": "text",
    "id": "P4LaqjUyKLhm"
   },
   "source": [
    "As we observe from the boxplots, some of them present outliers. There are several mechanisms to eliminate outliers. One option is to eliminate the values higher than a statistical value for each numerical variable."
   ]
  },
  {
   "cell_type": "markdown",
   "metadata": {
    "colab_type": "text",
    "id": "puFRcL_-KLhn"
   },
   "source": [
    "[**EX4**] [**CODE**] Remove the values higher than 5* IQR for each variable: `Revenue`, `CNT_EMPLOYEE`, `Mobile_potential`, `CNT_CB_DENSITY`, `CNT_CB_MOB_DENSITY`and `CNT_CB_FN_DENSITY`. Compare with the boxplot of the previous exercise [**EX3**] and explain the differences."
   ]
  },
  {
   "cell_type": "code",
   "execution_count": 39,
   "metadata": {},
   "outputs": [
    {
     "data": {
      "image/png": "[encoded data removed]",
      "text/plain": [
       "<Figure size 720x720 with 4 Axes>"
      ]
     },
     "metadata": {
      "needs_background": "light"
     },
     "output_type": "display_data"
    }
   ],
   "source": [
    "#calculate IQR \n",
    "iqr_custom = iqr(customer_dt[['Revenue', 'CNT_EMPLOYEE', 'Mobile_potential', 'CNT_CB_DENSITY', 'CNT_CB_MOB_DENSITY', 'CNT_CB_FN_DENSITY']], axis=0)\n",
    "iqr_noncustom = iqr(noncustomer_dt[['Revenue', 'CNT_EMPLOYEE', 'Mobile_potential', 'CNT_CB_DENSITY', 'CNT_CB_MOB_DENSITY', 'CNT_CB_FN_DENSITY']], axis=0)\n",
    "\n",
    "#delete rows with value > 5*IQR\n",
    "customer_dt = customer_dt[(customer_dt['Revenue'] <= 5*iqr_custom[0]) & (customer_dt['CNT_EMPLOYEE'] <= 5*iqr_custom[1]) &\n",
    "                         (customer_dt['Mobile_potential'] <= 5*iqr_custom[2]) & (customer_dt['CNT_CB_DENSITY'] <= 5*iqr_custom[3]) &\n",
    "                         (customer_dt['CNT_CB_MOB_DENSITY'] <= 5*iqr_custom[4]) & (customer_dt['CNT_CB_FN_DENSITY'] <= 5*iqr_custom[5])]\n",
    "\n",
    "noncustomer_dt = noncustomer_dt[(noncustomer_dt['Revenue'] <= 5*iqr_noncustom[0]) & (noncustomer_dt['CNT_EMPLOYEE'] <= 5*iqr_noncustom[1]) &\n",
    "                         (noncustomer_dt['Mobile_potential'] <= 5*iqr_noncustom[2]) & (noncustomer_dt['CNT_CB_DENSITY'] <= 5*iqr_noncustom[3]) &\n",
    "                         (noncustomer_dt['CNT_CB_MOB_DENSITY'] <= 5*iqr_noncustom[4]) & (noncustomer_dt['CNT_CB_FN_DENSITY'] <= 5*iqr_noncustom[5])]\n",
    "\n",
    "\n",
    "\n",
    "\n",
    "labels = ['customer_dt', 'noncustomer_dt']\n",
    "figs, axs = pyplot.subplots(nrows=2, ncols=2, figsize=(10, 10))\n",
    "\n",
    "axs[0,0].boxplot([customer_dt['Revenue'], noncustomer_dt['Revenue']], labels = labels);\n",
    "axs[0,0].set_title('Revenue')\n",
    "\n",
    "axs[0,1].boxplot([customer_dt['CNT_EMPLOYEE'], noncustomer_dt['CNT_EMPLOYEE']], labels = labels);\n",
    "axs[0,1].set_title('CNT_EMPLOYEE')\n",
    "\n",
    "axs[1,0].boxplot([customer_dt['Mobile_potential'], noncustomer_dt['Mobile_potential']], labels = labels);\n",
    "axs[1,0].set_title('Mobile_potential')\n",
    "\n",
    "axs[1,1].boxplot([customer_dt['CNT_CB_DENSITY'], noncustomer_dt['CNT_CB_DENSITY']], labels = labels);\n",
    "axs[1,1].set_title('CNT_CB_DENSITY')\n",
    "\n",
    "figs.subplots_adjust(hspace=0.4)\n",
    "pyplot.show()"
   ]
  },
  {
   "cell_type": "markdown",
   "metadata": {
    "colab_type": "text",
    "id": "QT-ULfjoKLhv"
   },
   "source": [
    "On the other hand, before applying any classification algorithm, it is necessary to transform non-numerical variables. The most common transformations are **coding as integer** or **coding as dummies**. Before deciding the mechanism it is important to analyze, for each categorical variable, their number of different values and their frequencies. In case of high number of possible values in comparision with the size of the dataset, **dummy** transformation could generate sparse matrix."
   ]
  },
  {
   "cell_type": "markdown",
   "metadata": {
    "colab_type": "text",
    "id": "TfWf0K_-KLhv"
   },
   "source": [
    "[**EX5**] [**REPORT**] Calculate the ratio of the values of `City` for `customer_dt` and `noncustomer_dt` datasets. Compare the ratio of each category of each dataset."
   ]
  },
  {
   "cell_type": "code",
   "execution_count": 40,
   "metadata": {},
   "outputs": [
    {
     "name": "stdout",
     "output_type": "stream",
     "text": [
      "################# Ratio City values - customers #################\n",
      " München       0.025060\n",
      "Köln          0.020286\n",
      "Chemnitz      0.019093\n",
      "Frankfurt     0.014320\n",
      "Stuttgart     0.013126\n",
      "                ...   \n",
      "Grünwald      0.001193\n",
      "Bürstadt      0.001193\n",
      "Weitendorf    0.001193\n",
      "Cham          0.001193\n",
      "Rudersberg    0.001193\n",
      "Name: City, Length: 503, dtype: float64\n",
      "\n",
      "################# Ratio City values - noncustomers #################\n",
      " Köln            0.016139\n",
      "Stuttgart       0.010139\n",
      "Bremen          0.010139\n",
      "Dortmund        0.009518\n",
      "Frankfurt       0.008897\n",
      "                  ...   \n",
      "Leopoldshöhe    0.000207\n",
      "Mülsen          0.000207\n",
      "Eggebek         0.000207\n",
      "Kenzingen       0.000207\n",
      "Buch            0.000207\n",
      "Name: City, Length: 2110, dtype: float64\n"
     ]
    }
   ],
   "source": [
    "print('################# Ratio City values - customers #################\\n', customer_dt['City'].value_counts(normalize = True))\n",
    "print('\\n################# Ratio City values - noncustomers #################\\n', noncustomer_dt['City'].value_counts(normalize = True))"
   ]
  },
  {
   "cell_type": "markdown",
   "metadata": {
    "colab_type": "text",
    "id": "0bCyWWPTKLhy"
   },
   "source": [
    "As the number of distinct values is high, we will apply a **integer** encoding through the LabelEncoder() transformation as follows:"
   ]
  },
  {
   "cell_type": "code",
   "execution_count": 41,
   "metadata": {
    "colab": {},
    "colab_type": "code",
    "id": "d3cN00r-KLhz"
   },
   "outputs": [],
   "source": [
    "City_Categ=customer_dt['City'].append(noncustomer_dt['City'])"
   ]
  },
  {
   "cell_type": "code",
   "execution_count": 42,
   "metadata": {
    "colab": {},
    "colab_type": "code",
    "id": "9fKR-_uXKLh2",
    "scrolled": true
   },
   "outputs": [],
   "source": [
    "city_encoder=LabelEncoder()\n",
    "city_encoder.fit(City_Categ.values)\n",
    "customer_dt['City_coded']=city_encoder.transform(customer_dt['City'].values)\n",
    "noncustomer_dt['City_coded']=city_encoder.transform(noncustomer_dt['City'].values)"
   ]
  },
  {
   "cell_type": "code",
   "execution_count": 43,
   "metadata": {
    "colab": {},
    "colab_type": "code",
    "id": "azGmQ302KLh4",
    "outputId": "e9ce7943-0b7d-416e-a9dd-57855a2a8de6"
   },
   "outputs": [
    {
     "data": {
      "text/html": [
       "<div>\n",
       "<style scoped>\n",
       "    .dataframe tbody tr th:only-of-type {\n",
       "        vertical-align: middle;\n",
       "    }\n",
       "\n",
       "    .dataframe tbody tr th {\n",
       "        vertical-align: top;\n",
       "    }\n",
       "\n",
       "    .dataframe thead th {\n",
       "        text-align: right;\n",
       "    }\n",
       "</style>\n",
       "<table border=\"1\" class=\"dataframe\">\n",
       "  <thead>\n",
       "    <tr style=\"text-align: right;\">\n",
       "      <th></th>\n",
       "      <th>City</th>\n",
       "      <th>Customer_Flag</th>\n",
       "      <th>Revenue</th>\n",
       "      <th>Sector</th>\n",
       "      <th>Legal_Form_Code</th>\n",
       "      <th>CNT_EMPLOYEE</th>\n",
       "      <th>CNT_CB_DENSITY</th>\n",
       "      <th>CNT_CB_MOB_DENSITY</th>\n",
       "      <th>CNT_CB_FN_DENSITY</th>\n",
       "      <th>Mobile_potential</th>\n",
       "      <th>City_coded</th>\n",
       "    </tr>\n",
       "  </thead>\n",
       "  <tbody>\n",
       "    <tr>\n",
       "      <th>11548</th>\n",
       "      <td>Haar</td>\n",
       "      <td>1</td>\n",
       "      <td>4000000.0</td>\n",
       "      <td>42.0</td>\n",
       "      <td>14.0</td>\n",
       "      <td>13</td>\n",
       "      <td>891.0</td>\n",
       "      <td>867.0</td>\n",
       "      <td>62.0</td>\n",
       "      <td>1778.004205</td>\n",
       "      <td>772</td>\n",
       "    </tr>\n",
       "    <tr>\n",
       "      <th>11551</th>\n",
       "      <td>Greding</td>\n",
       "      <td>1</td>\n",
       "      <td>11780000.0</td>\n",
       "      <td>74.0</td>\n",
       "      <td>4.0</td>\n",
       "      <td>50</td>\n",
       "      <td>7.0</td>\n",
       "      <td>7.0</td>\n",
       "      <td>0.0</td>\n",
       "      <td>1899.663564</td>\n",
       "      <td>711</td>\n",
       "    </tr>\n",
       "    <tr>\n",
       "      <th>11553</th>\n",
       "      <td>Dörth</td>\n",
       "      <td>1</td>\n",
       "      <td>2050000.0</td>\n",
       "      <td>43.0</td>\n",
       "      <td>14.0</td>\n",
       "      <td>16</td>\n",
       "      <td>30.0</td>\n",
       "      <td>30.0</td>\n",
       "      <td>1.0</td>\n",
       "      <td>1655.520125</td>\n",
       "      <td>434</td>\n",
       "    </tr>\n",
       "    <tr>\n",
       "      <th>11554</th>\n",
       "      <td>Frankfurt</td>\n",
       "      <td>1</td>\n",
       "      <td>853500.0</td>\n",
       "      <td>63.0</td>\n",
       "      <td>14.0</td>\n",
       "      <td>13</td>\n",
       "      <td>870.0</td>\n",
       "      <td>842.0</td>\n",
       "      <td>77.0</td>\n",
       "      <td>1548.507315</td>\n",
       "      <td>580</td>\n",
       "    </tr>\n",
       "    <tr>\n",
       "      <th>11565</th>\n",
       "      <td>Benningen</td>\n",
       "      <td>1</td>\n",
       "      <td>10680000.0</td>\n",
       "      <td>74.0</td>\n",
       "      <td>4.0</td>\n",
       "      <td>16</td>\n",
       "      <td>319.0</td>\n",
       "      <td>317.0</td>\n",
       "      <td>10.0</td>\n",
       "      <td>1746.128813</td>\n",
       "      <td>202</td>\n",
       "    </tr>\n",
       "  </tbody>\n",
       "</table>\n",
       "</div>"
      ],
      "text/plain": [
       "            City  Customer_Flag     Revenue  Sector  Legal_Form_Code  \\\n",
       "11548       Haar              1   4000000.0    42.0             14.0   \n",
       "11551    Greding              1  11780000.0    74.0              4.0   \n",
       "11553      Dörth              1   2050000.0    43.0             14.0   \n",
       "11554  Frankfurt              1    853500.0    63.0             14.0   \n",
       "11565  Benningen              1  10680000.0    74.0              4.0   \n",
       "\n",
       "       CNT_EMPLOYEE  CNT_CB_DENSITY  CNT_CB_MOB_DENSITY  CNT_CB_FN_DENSITY  \\\n",
       "11548            13           891.0               867.0               62.0   \n",
       "11551            50             7.0                 7.0                0.0   \n",
       "11553            16            30.0                30.0                1.0   \n",
       "11554            13           870.0               842.0               77.0   \n",
       "11565            16           319.0               317.0               10.0   \n",
       "\n",
       "       Mobile_potential  City_coded  \n",
       "11548       1778.004205         772  \n",
       "11551       1899.663564         711  \n",
       "11553       1655.520125         434  \n",
       "11554       1548.507315         580  \n",
       "11565       1746.128813         202  "
      ]
     },
     "execution_count": 43,
     "metadata": {},
     "output_type": "execute_result"
    }
   ],
   "source": [
    "customer_dt.head()"
   ]
  },
  {
   "cell_type": "markdown",
   "metadata": {
    "colab_type": "text",
    "id": "i5BjRBWgKLh7"
   },
   "source": [
    "[**EX5**] [**CODE**] Finally before entering in the training stage,  let's create a `final_dataset` that is the result of stacking `customer_dt`and `noncustomer_dt`considering the following variables: `City_coded`, `Revenue`, `Sector`, `Legal_Form_Code`, `CNT_EMPLOYEE`, `CNT_CB_DENSITY`, `CNT_CB_MOB_DENSITY`, `CNT_CB_FN_DENSITY`and `Mobile_potential`. The 'final_dataset' should include a new variable, `Target`, that takes value **0** for noncustomers and **1** for customers registers. The `Target` will distiguish the two classes to train the model."
   ]
  },
  {
   "cell_type": "code",
   "execution_count": 44,
   "metadata": {},
   "outputs": [],
   "source": [
    "customer_dt['Target'] = 1\n",
    "noncustomer_dt['Target'] = 0\n",
    "final_dataset = customer_dt.append(noncustomer_dt)\n",
    "final_dataset = final_dataset.reset_index()\n",
    "final_dataset = final_dataset.drop('index', axis = 1)\n",
    "final_dataset = final_dataset.loc[:, ['City_coded', 'Revenue', 'Sector', 'Legal_Form_Code', 'CNT_EMPLOYEE', 'CNT_CB_DENSITY', 'CNT_CB_MOB_DENSITY', 'CNT_CB_FN_DENSITY', 'Mobile_potential', 'Target']]"
   ]
  },
  {
   "cell_type": "markdown",
   "metadata": {
    "colab_type": "text",
    "id": "yKmKSuHlKLh-"
   },
   "source": [
    "The output should look like this:"
   ]
  },
  {
   "cell_type": "code",
   "execution_count": 45,
   "metadata": {
    "colab": {},
    "colab_type": "code",
    "id": "m4o5gxjCKLh_",
    "outputId": "96f50e93-e385-4694-f855-b6fc5ef2e15d"
   },
   "outputs": [
    {
     "data": {
      "text/html": [
       "<div>\n",
       "<style scoped>\n",
       "    .dataframe tbody tr th:only-of-type {\n",
       "        vertical-align: middle;\n",
       "    }\n",
       "\n",
       "    .dataframe tbody tr th {\n",
       "        vertical-align: top;\n",
       "    }\n",
       "\n",
       "    .dataframe thead th {\n",
       "        text-align: right;\n",
       "    }\n",
       "</style>\n",
       "<table border=\"1\" class=\"dataframe\">\n",
       "  <thead>\n",
       "    <tr style=\"text-align: right;\">\n",
       "      <th></th>\n",
       "      <th>City_coded</th>\n",
       "      <th>Revenue</th>\n",
       "      <th>Sector</th>\n",
       "      <th>Legal_Form_Code</th>\n",
       "      <th>CNT_EMPLOYEE</th>\n",
       "      <th>CNT_CB_DENSITY</th>\n",
       "      <th>CNT_CB_MOB_DENSITY</th>\n",
       "      <th>CNT_CB_FN_DENSITY</th>\n",
       "      <th>Mobile_potential</th>\n",
       "      <th>Target</th>\n",
       "    </tr>\n",
       "  </thead>\n",
       "  <tbody>\n",
       "    <tr>\n",
       "      <th>0</th>\n",
       "      <td>772</td>\n",
       "      <td>4000000.0</td>\n",
       "      <td>42.0</td>\n",
       "      <td>14.0</td>\n",
       "      <td>13</td>\n",
       "      <td>891.0</td>\n",
       "      <td>867.0</td>\n",
       "      <td>62.0</td>\n",
       "      <td>1778.004205</td>\n",
       "      <td>1</td>\n",
       "    </tr>\n",
       "    <tr>\n",
       "      <th>1</th>\n",
       "      <td>711</td>\n",
       "      <td>11780000.0</td>\n",
       "      <td>74.0</td>\n",
       "      <td>4.0</td>\n",
       "      <td>50</td>\n",
       "      <td>7.0</td>\n",
       "      <td>7.0</td>\n",
       "      <td>0.0</td>\n",
       "      <td>1899.663564</td>\n",
       "      <td>1</td>\n",
       "    </tr>\n",
       "    <tr>\n",
       "      <th>2</th>\n",
       "      <td>434</td>\n",
       "      <td>2050000.0</td>\n",
       "      <td>43.0</td>\n",
       "      <td>14.0</td>\n",
       "      <td>16</td>\n",
       "      <td>30.0</td>\n",
       "      <td>30.0</td>\n",
       "      <td>1.0</td>\n",
       "      <td>1655.520125</td>\n",
       "      <td>1</td>\n",
       "    </tr>\n",
       "    <tr>\n",
       "      <th>3</th>\n",
       "      <td>580</td>\n",
       "      <td>853500.0</td>\n",
       "      <td>63.0</td>\n",
       "      <td>14.0</td>\n",
       "      <td>13</td>\n",
       "      <td>870.0</td>\n",
       "      <td>842.0</td>\n",
       "      <td>77.0</td>\n",
       "      <td>1548.507315</td>\n",
       "      <td>1</td>\n",
       "    </tr>\n",
       "    <tr>\n",
       "      <th>4</th>\n",
       "      <td>202</td>\n",
       "      <td>10680000.0</td>\n",
       "      <td>74.0</td>\n",
       "      <td>4.0</td>\n",
       "      <td>16</td>\n",
       "      <td>319.0</td>\n",
       "      <td>317.0</td>\n",
       "      <td>10.0</td>\n",
       "      <td>1746.128813</td>\n",
       "      <td>1</td>\n",
       "    </tr>\n",
       "  </tbody>\n",
       "</table>\n",
       "</div>"
      ],
      "text/plain": [
       "   City_coded     Revenue  Sector  Legal_Form_Code  CNT_EMPLOYEE  \\\n",
       "0         772   4000000.0    42.0             14.0            13   \n",
       "1         711  11780000.0    74.0              4.0            50   \n",
       "2         434   2050000.0    43.0             14.0            16   \n",
       "3         580    853500.0    63.0             14.0            13   \n",
       "4         202  10680000.0    74.0              4.0            16   \n",
       "\n",
       "   CNT_CB_DENSITY  CNT_CB_MOB_DENSITY  CNT_CB_FN_DENSITY  Mobile_potential  \\\n",
       "0           891.0               867.0               62.0       1778.004205   \n",
       "1             7.0                 7.0                0.0       1899.663564   \n",
       "2            30.0                30.0                1.0       1655.520125   \n",
       "3           870.0               842.0               77.0       1548.507315   \n",
       "4           319.0               317.0               10.0       1746.128813   \n",
       "\n",
       "   Target  \n",
       "0       1  \n",
       "1       1  \n",
       "2       1  \n",
       "3       1  \n",
       "4       1  "
      ]
     },
     "execution_count": 45,
     "metadata": {},
     "output_type": "execute_result"
    }
   ],
   "source": [
    "final_dataset.head()"
   ]
  },
  {
   "cell_type": "code",
   "execution_count": 46,
   "metadata": {
    "colab": {},
    "colab_type": "code",
    "id": "zcWcoMGbKLiB",
    "outputId": "f6dba835-696b-42eb-f362-42d8143ca31d"
   },
   "outputs": [
    {
     "data": {
      "text/html": [
       "<div>\n",
       "<style scoped>\n",
       "    .dataframe tbody tr th:only-of-type {\n",
       "        vertical-align: middle;\n",
       "    }\n",
       "\n",
       "    .dataframe tbody tr th {\n",
       "        vertical-align: top;\n",
       "    }\n",
       "\n",
       "    .dataframe thead th {\n",
       "        text-align: right;\n",
       "    }\n",
       "</style>\n",
       "<table border=\"1\" class=\"dataframe\">\n",
       "  <thead>\n",
       "    <tr style=\"text-align: right;\">\n",
       "      <th></th>\n",
       "      <th>City_coded</th>\n",
       "      <th>Revenue</th>\n",
       "      <th>Sector</th>\n",
       "      <th>Legal_Form_Code</th>\n",
       "      <th>CNT_EMPLOYEE</th>\n",
       "      <th>CNT_CB_DENSITY</th>\n",
       "      <th>CNT_CB_MOB_DENSITY</th>\n",
       "      <th>CNT_CB_FN_DENSITY</th>\n",
       "      <th>Mobile_potential</th>\n",
       "      <th>Target</th>\n",
       "    </tr>\n",
       "  </thead>\n",
       "  <tbody>\n",
       "    <tr>\n",
       "      <th>5666</th>\n",
       "      <td>722</td>\n",
       "      <td>6391606.0</td>\n",
       "      <td>60.0</td>\n",
       "      <td>20.0</td>\n",
       "      <td>19</td>\n",
       "      <td>57.0</td>\n",
       "      <td>57.0</td>\n",
       "      <td>0.0</td>\n",
       "      <td>2006.059998</td>\n",
       "      <td>0</td>\n",
       "    </tr>\n",
       "    <tr>\n",
       "      <th>5667</th>\n",
       "      <td>1836</td>\n",
       "      <td>305000.0</td>\n",
       "      <td>60.0</td>\n",
       "      <td>4.0</td>\n",
       "      <td>13</td>\n",
       "      <td>9.0</td>\n",
       "      <td>9.0</td>\n",
       "      <td>0.0</td>\n",
       "      <td>1231.304840</td>\n",
       "      <td>0</td>\n",
       "    </tr>\n",
       "    <tr>\n",
       "      <th>5668</th>\n",
       "      <td>584</td>\n",
       "      <td>4200000.0</td>\n",
       "      <td>23.0</td>\n",
       "      <td>14.0</td>\n",
       "      <td>50</td>\n",
       "      <td>62.0</td>\n",
       "      <td>62.0</td>\n",
       "      <td>6.0</td>\n",
       "      <td>1958.236002</td>\n",
       "      <td>0</td>\n",
       "    </tr>\n",
       "    <tr>\n",
       "      <th>5669</th>\n",
       "      <td>1882</td>\n",
       "      <td>1336495.0</td>\n",
       "      <td>60.0</td>\n",
       "      <td>16.0</td>\n",
       "      <td>16</td>\n",
       "      <td>63.0</td>\n",
       "      <td>61.0</td>\n",
       "      <td>2.0</td>\n",
       "      <td>1703.188202</td>\n",
       "      <td>0</td>\n",
       "    </tr>\n",
       "    <tr>\n",
       "      <th>5670</th>\n",
       "      <td>966</td>\n",
       "      <td>4593054.0</td>\n",
       "      <td>64.0</td>\n",
       "      <td>14.0</td>\n",
       "      <td>41</td>\n",
       "      <td>90.0</td>\n",
       "      <td>90.0</td>\n",
       "      <td>5.0</td>\n",
       "      <td>1985.888315</td>\n",
       "      <td>0</td>\n",
       "    </tr>\n",
       "  </tbody>\n",
       "</table>\n",
       "</div>"
      ],
      "text/plain": [
       "      City_coded    Revenue  Sector  Legal_Form_Code  CNT_EMPLOYEE  \\\n",
       "5666         722  6391606.0    60.0             20.0            19   \n",
       "5667        1836   305000.0    60.0              4.0            13   \n",
       "5668         584  4200000.0    23.0             14.0            50   \n",
       "5669        1882  1336495.0    60.0             16.0            16   \n",
       "5670         966  4593054.0    64.0             14.0            41   \n",
       "\n",
       "      CNT_CB_DENSITY  CNT_CB_MOB_DENSITY  CNT_CB_FN_DENSITY  Mobile_potential  \\\n",
       "5666            57.0                57.0                0.0       2006.059998   \n",
       "5667             9.0                 9.0                0.0       1231.304840   \n",
       "5668            62.0                62.0                6.0       1958.236002   \n",
       "5669            63.0                61.0                2.0       1703.188202   \n",
       "5670            90.0                90.0                5.0       1985.888315   \n",
       "\n",
       "      Target  \n",
       "5666       0  \n",
       "5667       0  \n",
       "5668       0  \n",
       "5669       0  \n",
       "5670       0  "
      ]
     },
     "execution_count": 46,
     "metadata": {},
     "output_type": "execute_result"
    }
   ],
   "source": [
    "final_dataset.tail()"
   ]
  },
  {
   "cell_type": "markdown",
   "metadata": {
    "colab_type": "text",
    "id": "riT4OdRHKLiD"
   },
   "source": [
    "To measure the quality of our classifiers, it is necessary to train and test the models with different datasets. For this objective we will use [train_test_split](https://scikit-learn.org/stable/modules/generated/sklearn.model_selection.train_test_split.html) function to generate 4 new datasets: 2 for training and 2 for test: \n",
    "- `X_train`: contains all variables except `Target` for the 80% of `final_dataset`,\n",
    "- `y_train`: contains `Target`variables for the 80% of `final_dataset`, \n",
    "- `X_test`: contains all variables except `Target` for the 20% of `final_dataset`,\n",
    "- `y_test`: contains `Target`variables for the 20% of `final_dataset`."
   ]
  },
  {
   "cell_type": "code",
   "execution_count": 47,
   "metadata": {
    "colab": {},
    "colab_type": "code",
    "id": "53-vr7DKKLiD"
   },
   "outputs": [],
   "source": [
    "X_train, X_test, y_train, y_test= train_test_split (final_dataset.iloc[:,:-1], final_dataset.iloc[:,-1], test_size=0.2, random_state=42) "
   ]
  },
  {
   "cell_type": "markdown",
   "metadata": {
    "colab_type": "text",
    "id": "n-pLvA3EKLiJ"
   },
   "source": [
    "[**EX6**] [**REPORT**] Calculate the lenght of `X_train` and `X_test` datasets. Is it aligned with the `test_size`value selected in the split?"
   ]
  },
  {
   "cell_type": "code",
   "execution_count": 48,
   "metadata": {},
   "outputs": [
    {
     "name": "stdout",
     "output_type": "stream",
     "text": [
      "length of X_train:  4536\n",
      "length of X_test:  1135\n"
     ]
    }
   ],
   "source": [
    "print(\"length of X_train: \", len(X_train))\n",
    "print(\"length of X_test: \", len(X_test))"
   ]
  },
  {
   "cell_type": "markdown",
   "metadata": {
    "colab_type": "text",
    "id": "0Doge9L_KLiM"
   },
   "source": [
    "[**EX7**] [**REPORT**] Draw the histograms of `y_train`and `y_test`. Is the dataset balanced (similar number of rows for each class or Target) or imbalanced ? How do you think it could affect to quality of the classifier?"
   ]
  },
  {
   "cell_type": "code",
   "execution_count": 49,
   "metadata": {},
   "outputs": [
    {
     "data": {
      "text/plain": [
       "<matplotlib.axes._subplots.AxesSubplot at 0x7fac81b61390>"
      ]
     },
     "execution_count": 49,
     "metadata": {},
     "output_type": "execute_result"
    },
    {
     "data": {
      "image/png": "[encoded data removed]",
      "text/plain": [
       "<Figure size 432x288 with 1 Axes>"
      ]
     },
     "metadata": {
      "needs_background": "light"
     },
     "output_type": "display_data"
    }
   ],
   "source": [
    "y_train.hist()\n",
    "y_test.hist()"
   ]
  },
  {
   "cell_type": "markdown",
   "metadata": {
    "colab_type": "text",
    "id": "pVofh0d-KLiT"
   },
   "source": [
    "# 2. Model Training: from baseline models to ensemble¶"
   ]
  },
  {
   "cell_type": "markdown",
   "metadata": {
    "colab_type": "text",
    "id": "P58EvGU1KLiT"
   },
   "source": [
    "Now we are ready to enter in the training stage of the machine learning models. The common way to procedure is starting with baseline models (i.e. SVM, Decision Trees, Naive Bayes, etc....) and later, try to improve it adjusting hyperparameters of the models or creating more complex models architectures as ensembles."
   ]
  },
  {
   "cell_type": "markdown",
   "metadata": {
    "colab_type": "text",
    "id": "hKyfjGlmKLiU"
   },
   "source": [
    "## 2.1. Baseline of models: Training and evaluation"
   ]
  },
  {
   "cell_type": "markdown",
   "metadata": {
    "colab_type": "text",
    "id": "eWN0sijJKLiU"
   },
   "source": [
    "In the following section we are training a SVM, Decision Tree and Naive Bayes algorithms. To do it, we will use the `X_train`and `y_train`datasets.\n",
    "Later on we will evaluate the performance (i.e. **accuracy**, **confusion matrix**, **recall** and **precision**) of each model with the `test`dataset, i.e. `X_test`and `y_test`.\n",
    "\n",
    "\n",
    "Tip 1: You may use [classification_report()](https://scikit-learn.org/stable/modules/generated/sklearn.metrics.classification_report.html) from Sklearn library to calculate the **precision**, **recall** of the model.\n",
    "\n",
    "Tip 2: You may use [confusion_matrix()](https://scikit-learn.org/stable/modules/generated/sklearn.metrics.confusion_matrix.html) from Sklearn library to calculate the confusion matrix of a model.\n",
    "\n",
    "Tip 3: When using Sklearn library, you may use the function **.score(X_test, y_test)** to calculate the accuracy value."
   ]
  },
  {
   "cell_type": "markdown",
   "metadata": {
    "colab_type": "text",
    "id": "2zQCoC5JKLiV"
   },
   "source": [
    "### Classification with a SVM model"
   ]
  },
  {
   "cell_type": "markdown",
   "metadata": {
    "colab_type": "text",
    "id": "VnWGf-D6KLiV"
   },
   "source": [
    "[**EX8**] [**CODE**] Train the SVM classifier of the Sklearn library. Evaluate the following metrics for kernel=\"rbf\":\n",
    "- Which is **precision**, **recall** and **accuracy** of the algorithm?\n",
    "- Which is the **confusion matrix**?\n",
    "- Is the algorithm classifying both classes (Target=0 and Target=1) in a similar way? Why?\n",
    "- Compare the **precision** and **recall** of the **training** dataset (i.e.`X_train`and `y_train`) vs the **test** dataset (i.e. `X_test`and `y_test`). Which is better? Why? Which is the correct measure to estimate the performance for other unseen datasets? Why?"
   ]
  },
  {
   "cell_type": "code",
   "execution_count": 50,
   "metadata": {},
   "outputs": [
    {
     "name": "stdout",
     "output_type": "stream",
     "text": [
      "###### TEST DATASET ######\n",
      "Accuracy:  0.8334801762114538\n",
      "\n",
      "Confusion Matrix :\n",
      " [[945   0]\n",
      " [189   1]]\n",
      "\n",
      "Classification Report: \n",
      "               precision    recall  f1-score   support\n",
      "\n",
      "           0       0.83      1.00      0.91       945\n",
      "           1       1.00      0.01      0.01       190\n",
      "\n",
      "    accuracy                           0.83      1135\n",
      "   macro avg       0.92      0.50      0.46      1135\n",
      "weighted avg       0.86      0.83      0.76      1135\n",
      "\n",
      "###### TRAIN DATASET ######\n",
      "Accuracy:  0.8589065255731922\n",
      "\n",
      "Confusion Matrix: \n",
      " [[3888    0]\n",
      " [ 640    8]]\n",
      "\n",
      "Classification Report: \n",
      "               precision    recall  f1-score   support\n",
      "\n",
      "           0       0.86      1.00      0.92      3888\n",
      "           1       1.00      0.01      0.02       648\n",
      "\n",
      "    accuracy                           0.86      4536\n",
      "   macro avg       0.93      0.51      0.47      4536\n",
      "weighted avg       0.88      0.86      0.80      4536\n",
      "\n"
     ]
    }
   ],
   "source": [
    "model_svc = SVC()\n",
    "model_svc.fit(X_train, y_train)\n",
    "\n",
    "print(\"###### TEST DATASET ######\")\n",
    "\n",
    "#Train\n",
    "y_pred_svc_test = model_svc.predict(X_test)\n",
    "\n",
    "#Accuracy\n",
    "result_svc_test = model_svc.score(X_test, y_test)\n",
    "print(\"Accuracy: \", result_svc_test)\n",
    "\n",
    "#Confusion Matrix:\n",
    "conf_mat_test = confusion_matrix(y_test, y_pred_svc_test)\n",
    "print(\"\\nConfusion Matrix :\\n\",conf_mat_test)\n",
    "\n",
    "#Classification Report for precision and recall\n",
    "class_report_test = classification_report(y_test, y_pred_svc_test)\n",
    "print(\"\\nClassification Report: \\n\",class_report_test)\n",
    "\n",
    "print(\"###### TRAIN DATASET ######\")\n",
    "\n",
    "#Train\n",
    "y_pred_svc_train = model_svc.predict(X_train)\n",
    "\n",
    "#Accuracy\n",
    "result_svc_train = model_svc.score(X_train, y_train)\n",
    "print(\"Accuracy: \", result_svc_train)\n",
    "\n",
    "#Confusion Matrix\n",
    "conf_mat_train = confusion_matrix(y_train, y_pred_svc_train)\n",
    "print(\"\\nConfusion Matrix: \\n\", conf_mat_train)\n",
    "\n",
    "#Classification Report\n",
    "class_report_train = classification_report(y_train, y_pred_svc_train)\n",
    "print(\"\\nClassification Report: \\n\", class_report_train)"
   ]
  },
  {
   "cell_type": "markdown",
   "metadata": {
    "colab_type": "text",
    "id": "jBTK-h4cKLiY"
   },
   "source": [
    "### Classification with a Decision Tree model"
   ]
  },
  {
   "cell_type": "markdown",
   "metadata": {
    "colab_type": "text",
    "id": "DMRkY9uvKLiY"
   },
   "source": [
    "[**EX9**] [**CODE**] Train the Decision Tree algorithm from Sklearn library. Evaluate the following metrics:\n",
    "- Which is **precision**, **recall** and **accuracy** of the algorithm?\n",
    "- Which is the **confusion matrix**?\n",
    "- Is Decision Tree algorithm working better than SVM? Why?"
   ]
  },
  {
   "cell_type": "code",
   "execution_count": 51,
   "metadata": {},
   "outputs": [
    {
     "name": "stdout",
     "output_type": "stream",
     "text": [
      "###### TEST DATASET ######\n",
      "Accuracy:  0.8334801762114538\n",
      "\n",
      "Confusion Matrix :\n",
      " [[818 127]\n",
      " [127  63]]\n",
      "\n",
      "Classification Report: \n",
      "               precision    recall  f1-score   support\n",
      "\n",
      "           0       0.87      0.87      0.87       945\n",
      "           1       0.33      0.33      0.33       190\n",
      "\n",
      "    accuracy                           0.78      1135\n",
      "   macro avg       0.60      0.60      0.60      1135\n",
      "weighted avg       0.78      0.78      0.78      1135\n",
      "\n",
      "###### TRAIN DATASET ######\n",
      "Accuracy:  0.8589065255731922\n",
      "\n",
      "Confusion Matrix: \n",
      " [[3888    0]\n",
      " [   0  648]]\n",
      "\n",
      "Classification Report: \n",
      "               precision    recall  f1-score   support\n",
      "\n",
      "           0       1.00      1.00      1.00      3888\n",
      "           1       1.00      1.00      1.00       648\n",
      "\n",
      "    accuracy                           1.00      4536\n",
      "   macro avg       1.00      1.00      1.00      4536\n",
      "weighted avg       1.00      1.00      1.00      4536\n",
      "\n"
     ]
    }
   ],
   "source": [
    "model_dt = DecisionTreeClassifier()\n",
    "model_dt.fit(X_train, y_train)\n",
    "\n",
    "print(\"###### TEST DATASET ######\")\n",
    "\n",
    "#Train\n",
    "y_pred_dt_test = model_dt.predict(X_test)\n",
    "\n",
    "#Accuracy\n",
    "result_dt_test = model_dt.score(X_test, y_test)\n",
    "print(\"Accuracy: \", result_svc_test)\n",
    "\n",
    "#Confusion Matrix:\n",
    "conf_mat_test = confusion_matrix(y_test, y_pred_dt_test)\n",
    "print(\"\\nConfusion Matrix :\\n\",conf_mat_test)\n",
    "\n",
    "#Classification Report for precision and recall\n",
    "class_report_test = classification_report(y_test, y_pred_dt_test)\n",
    "print(\"\\nClassification Report: \\n\",class_report_test)\n",
    "\n",
    "print(\"###### TRAIN DATASET ######\")\n",
    "\n",
    "#Train\n",
    "y_pred_dt_train = model_dt.predict(X_train)\n",
    "\n",
    "#Accuracy\n",
    "result_dt_train = model_dt.score(X_train, y_train)\n",
    "print(\"Accuracy: \", result_svc_train)\n",
    "\n",
    "#Confusion Matrix\n",
    "conf_mat_train = confusion_matrix(y_train, y_pred_dt_train)\n",
    "print(\"\\nConfusion Matrix: \\n\", conf_mat_train)\n",
    "\n",
    "#Classification Report\n",
    "class_report_train = classification_report(y_train, y_pred_dt_train)\n",
    "print(\"\\nClassification Report: \\n\", class_report_train)"
   ]
  },
  {
   "cell_type": "markdown",
   "metadata": {
    "colab_type": "text",
    "id": "VxSee22YKLiy"
   },
   "source": [
    "### Comparing algorithm consistenly: KFold cross-validation"
   ]
  },
  {
   "cell_type": "markdown",
   "metadata": {
    "colab_type": "text",
    "id": "K-n_MHhvKLiz"
   },
   "source": [
    "When we are looking for the best algorithm to classify a dataset, it is very useful to compare all of them. Besides, to protect the training from **overfitting** and calculate the performance with less variance than a single train-test split, it is uselful to apply **K-Fold cross-validation**. The way that KFolds works is splitting the dataset into k-parts or **fold** (e.g. k = 3, 5 or k = 10). The algorithm is trained on k − 1 folds with one held back and tested on the held back fold."
   ]
  },
  {
   "cell_type": "markdown",
   "metadata": {
    "colab_type": "text",
    "id": "23xG-yXNKLiz"
   },
   "source": [
    "[**EX10**] [**CODE**] Train a SVM and Decision Tree algorithms using a KFold cross-validation with **k=5** and calculate the **mean** and **standard deviation** of the **accuracy**. Plot a boxplot of the accuracy for every model. Which is the model with better mean value of the accuracy? Which is the algorithm with less deviation on the accuracy?  \n",
    "\n",
    "Tip 1: You may use [KFold](https://scikit-learn.org/stable/modules/generated/sklearn.model_selection.KFold.html) to apply cross-validation."
   ]
  },
  {
   "cell_type": "code",
   "execution_count": 52,
   "metadata": {},
   "outputs": [
    {
     "name": "stdout",
     "output_type": "stream",
     "text": [
      "Model SVM with accuracy (mean): 0.858910869449072 and accuracy (stdev): 0.012553735955727617\n",
      "Model DT with accuracy (mean): 0.7859358683562503 and accuracy (stdev): 0.006809610854026353\n"
     ]
    }
   ],
   "source": [
    "models = []\n",
    "models.append(('SVM', SVC()))\n",
    "models.append((\"DT\", DecisionTreeClassifier()))\n",
    "\n",
    "results = []\n",
    "names = []\n",
    "scoring_metric = 'accuracy'\n",
    "\n",
    "for name, model in models:\n",
    "    kfold = KFold(n_splits = 5)\n",
    "    cv_results = cross_val_score(model, X_train, y_train, cv = kfold, scoring = scoring_metric)\n",
    "    results.append(cv_results)\n",
    "    names.append(name)\n",
    "    print('Model', name, 'with accuracy (mean):', cv_results.mean(), 'and accuracy (stdev):', cv_results.std())"
   ]
  },
  {
   "cell_type": "markdown",
   "metadata": {
    "colab_type": "text",
    "id": "_aEAtktzKLi2"
   },
   "source": [
    "The output of the boxplots should look like this:"
   ]
  },
  {
   "cell_type": "code",
   "execution_count": 53,
   "metadata": {
    "colab": {},
    "colab_type": "code",
    "id": "bynq6I3OKLi3",
    "outputId": "277f042a-2371-47c5-bf2a-16b9926bd98a",
    "scrolled": true
   },
   "outputs": [
    {
     "data": {
      "image/png": "[encoded data removed]",
      "text/plain": [
       "<Figure size 432x288 with 1 Axes>"
      ]
     },
     "metadata": {
      "needs_background": "light"
     },
     "output_type": "display_data"
    }
   ],
   "source": [
    "#boxplot for algorithm comparison\n",
    "fig=pyplot.figure()\n",
    "fig.suptitle (\"Algorithm accuracy comparison\")\n",
    "ax=fig.add_subplot(111)\n",
    "pyplot.boxplot(results)\n",
    "ax.set_xticklabels(names)\n",
    "pyplot.show()"
   ]
  },
  {
   "cell_type": "markdown",
   "metadata": {
    "colab_type": "text",
    "id": "5h_URjohKLi6"
   },
   "source": [
    "## 2.2 Improving the model"
   ]
  },
  {
   "cell_type": "markdown",
   "metadata": {
    "colab_type": "text",
    "id": "zDgLSJn_KLi7"
   },
   "source": [
    "As we observe from the baseline models, even though the accuracy is over 70% the classifiers don't distinguish properly both classes, i.e. **Target=1** and **Target=0**.  \n",
    "In this scenario, we should apply another strategies to improve the perfomance. There are several options: from adjusting the balance of the classes or doing the fine tuning of the hyperparameters of the models (for instance the type of kernel in SVM or the minimum number of samples per leaf in Decision Tree) to combine differents models to create ensembles.\n",
    "In this section, we will evaluate our classifiers in two ways:\n",
    "- Forcing the balancing of both classes\n",
    "- Building ensembles of models"
   ]
  },
  {
   "cell_type": "markdown",
   "metadata": {
    "colab_type": "text",
    "id": "0xGX62GJKLi8"
   },
   "source": [
    "### Balancing the dataset"
   ]
  },
  {
   "cell_type": "markdown",
   "metadata": {
    "colab_type": "text",
    "id": "7HL7D2DvKLi8"
   },
   "source": [
    "Let's check the type of balancing we have in our training and test datasets."
   ]
  },
  {
   "cell_type": "markdown",
   "metadata": {
    "colab_type": "text",
    "id": "EV6OfIKgKLi9"
   },
   "source": [
    "[**EX11**][**CODE**] Split the previous `final_dataset`in two datasets: `customer_dt` for class 1 and `noncustomer_dt`for class 0. Calculate the number of samples for the **customers** class (i.e. Target=1) and for the **noncustomers** class (i.e. Target=0). Is the `final_dataset`balanced or imbalanced? Explain two options to match both datasets.\n"
   ]
  },
  {
   "cell_type": "code",
   "execution_count": 54,
   "metadata": {},
   "outputs": [
    {
     "name": "stdout",
     "output_type": "stream",
     "text": [
      "Number of samples for customer_dt:  838\n",
      "Number of samples for noncustomer_dt:  4833\n"
     ]
    }
   ],
   "source": [
    "customer_dt = final_dataset[final_dataset.Target == 1]\n",
    "noncustomer_dt = final_dataset[final_dataset.Target == 0]\n",
    "noncustomer_dt = noncustomer_dt.reset_index().drop('index', axis = 1)\n",
    "\n",
    "print('Number of samples for customer_dt: ', len(customer_dt))\n",
    "print('Number of samples for noncustomer_dt: ', len(noncustomer_dt))\n"
   ]
  },
  {
   "cell_type": "markdown",
   "metadata": {
    "colab_type": "text",
    "id": "w9rVOQ5iKLjD"
   },
   "source": [
    "Let's undersample the `noncustomer_dt` to balance both datasets:"
   ]
  },
  {
   "cell_type": "code",
   "execution_count": 55,
   "metadata": {
    "colab": {},
    "colab_type": "code",
    "id": "8a9L5o8iKLjE",
    "outputId": "d98a1048-c96e-4d0a-fee4-61f71bdbb955"
   },
   "outputs": [
    {
     "name": "stdout",
     "output_type": "stream",
     "text": [
      "The new number of samples in noncustomer dataset is: 840\n"
     ]
    }
   ],
   "source": [
    "noncustomer_dt_sample=noncustomer_dt.sample(840)\n",
    "print(\"The new number of samples in noncustomer dataset is:\", len(noncustomer_dt_sample))"
   ]
  },
  {
   "cell_type": "markdown",
   "metadata": {
    "colab_type": "text",
    "id": "P2l66X4jKLjG"
   },
   "source": [
    "If we append both datasets, the **customer_dt** and the **noncustomer_dt_sample**, the new `final_dataset`looks like:"
   ]
  },
  {
   "cell_type": "code",
   "execution_count": 56,
   "metadata": {
    "colab": {},
    "colab_type": "code",
    "id": "C0WTasz3KLjH",
    "outputId": "472f4dbb-8f83-4be0-c454-95e35f3e661b"
   },
   "outputs": [
    {
     "data": {
      "text/plain": [
       "<matplotlib.axes._subplots.AxesSubplot at 0x7fac82e42410>"
      ]
     },
     "execution_count": 56,
     "metadata": {},
     "output_type": "execute_result"
    },
    {
     "data": {
      "image/png": "[encoded data removed]",
      "text/plain": [
       "<Figure size 432x288 with 1 Axes>"
      ]
     },
     "metadata": {
      "needs_background": "light"
     },
     "output_type": "display_data"
    }
   ],
   "source": [
    "final_dataset=customer_dt.append(noncustomer_dt_sample).reset_index().drop('index', axis=1)\n",
    "final_dataset=final_dataset.loc[:,['City_coded', 'Revenue', 'Sector', 'Legal_Form_Code', 'CNT_EMPLOYEE', 'CNT_CB_DENSITY',\n",
    "                            'CNT_CB_MOB_DENSITY', 'CNT_CB_FN_DENSITY', 'Mobile_potential','Target']]\n",
    "final_dataset.Target.hist()"
   ]
  },
  {
   "cell_type": "markdown",
   "metadata": {
    "colab_type": "text",
    "id": "ZQ0HyRiOKLjJ"
   },
   "source": [
    "[**EX12**][**CODE**][**REPORT**] Train a SVC and Decision Tree algorithm with the new `final_dataset`. Evaluate the **recall**, **precision** and **confusion matrix** of all 3 models.\n",
    "- Which has better accuracy?\n",
    "- Which is the model with better recall? And accuracy?\n",
    "- Which model you recommend to classify both classes? Justify your answer"
   ]
  },
  {
   "cell_type": "code",
   "execution_count": 57,
   "metadata": {},
   "outputs": [
    {
     "name": "stdout",
     "output_type": "stream",
     "text": [
      "###################### SVC ######################\n",
      "\n",
      "###### TEST DATASET ######\n",
      "Accuracy:  0.5625\n",
      "\n",
      "Confusion Matrix :\n",
      " [[129  36]\n",
      " [111  60]]\n",
      "\n",
      "Classification Report: \n",
      "               precision    recall  f1-score   support\n",
      "\n",
      "           0       0.54      0.78      0.64       165\n",
      "           1       0.62      0.35      0.45       171\n",
      "\n",
      "    accuracy                           0.56       336\n",
      "   macro avg       0.58      0.57      0.54       336\n",
      "weighted avg       0.58      0.56      0.54       336\n",
      "\n",
      "\n",
      "\n",
      "\n",
      "###################### DECISION TREE ######################\n",
      "\n",
      "###### TEST DATASET ######\n",
      "Accuracy:  0.5982142857142857\n",
      "\n",
      "Confusion Matrix :\n",
      " [[ 99  66]\n",
      " [ 69 102]]\n",
      "\n",
      "Classification Report: \n",
      "               precision    recall  f1-score   support\n",
      "\n",
      "           0       0.59      0.60      0.59       165\n",
      "           1       0.61      0.60      0.60       171\n",
      "\n",
      "    accuracy                           0.60       336\n",
      "   macro avg       0.60      0.60      0.60       336\n",
      "weighted avg       0.60      0.60      0.60       336\n",
      "\n"
     ]
    }
   ],
   "source": [
    "X_train, X_test, y_train, y_test= train_test_split (final_dataset.iloc[:,:-1], final_dataset.iloc[:,-1], test_size=0.2, random_state=42) \n",
    "\n",
    "#SVC MODEL\n",
    "print('###################### SVC ######################\\n')\n",
    "model_svc = SVC()\n",
    "model_svc.fit(X_train, y_train)\n",
    "\n",
    "print(\"###### TEST DATASET ######\")\n",
    "\n",
    "#Train\n",
    "y_pred_svc_test = model_svc.predict(X_test)\n",
    "\n",
    "#Accuracy\n",
    "result_svc_test = model_svc.score(X_test, y_test)\n",
    "print(\"Accuracy: \", result_svc_test)\n",
    "\n",
    "#Confusion Matrix:\n",
    "conf_mat_test = confusion_matrix(y_test, y_pred_svc_test)\n",
    "print(\"\\nConfusion Matrix :\\n\",conf_mat_test)\n",
    "\n",
    "#Classification Report for precision and recall\n",
    "class_report_test = classification_report(y_test, y_pred_svc_test)\n",
    "print(\"\\nClassification Report: \\n\",class_report_test)\n",
    "\n",
    "\n",
    "#DECISION TREE MODEL\n",
    "print('\\n\\n\\n###################### DECISION TREE ######################\\n')\n",
    "model_dt = DecisionTreeClassifier()\n",
    "model_dt.fit(X_train, y_train)\n",
    "\n",
    "print(\"###### TEST DATASET ######\")\n",
    "\n",
    "#Train\n",
    "y_pred_dt_test = model_dt.predict(X_test)\n",
    "\n",
    "#Accuracy\n",
    "result_dt_test = model_dt.score(X_test, y_test)\n",
    "print(\"Accuracy: \", result_dt_test)\n",
    "\n",
    "#Confusion Matrix:\n",
    "conf_mat_test = confusion_matrix(y_test, y_pred_dt_test)\n",
    "print(\"\\nConfusion Matrix :\\n\",conf_mat_test)\n",
    "\n",
    "#Classification Report for precision and recall\n",
    "class_report_test = classification_report(y_test, y_pred_dt_test)\n",
    "print(\"\\nClassification Report: \\n\",class_report_test)"
   ]
  },
  {
   "cell_type": "markdown",
   "metadata": {
    "colab_type": "text",
    "id": "So2hzc-BKLjU"
   },
   "source": [
    "### Ensembling models"
   ]
  },
  {
   "cell_type": "markdown",
   "metadata": {
    "colab_type": "text",
    "id": "7GbOE6CMKLjU"
   },
   "source": [
    "Another mechanism to improve the performance of a classifier is to combine several algorithms. The three most popular methods for combining models are:\n",
    "- Bagging combines multiple models that are trained with different subsamples of the training dataset.\n",
    "- Boosting combines multiple models in cascade and each of them learns to fix the prediction errors of the prior model.\n",
    "- Voting combines statistically the output of several models.\n",
    "\n",
    "Usually Bagging and Boosting are formed by models of the same type meanwhile voting could be formed by different models."
   ]
  },
  {
   "cell_type": "markdown",
   "metadata": {
    "colab_type": "text",
    "id": "NgkK3L4xKLjV"
   },
   "source": [
    "### Voting ensemble"
   ]
  },
  {
   "cell_type": "markdown",
   "metadata": {
    "colab_type": "text",
    "id": "24SsOU59KLjW"
   },
   "source": [
    "[**EX13**][**CODE**][**REPORT**] Build a **voting** ensemble formed by a SVM and Decision Tree and train it with the balanced training dataset. Calculate the **precision**, **recall** and **confusion matrix** of the new classifier. Is it better than any of the previous baseline models? Justify your answer.\n",
    "\n",
    "Tip: You may use [VotingClassifier()](https://scikit-learn.org/stable/modules/generated/sklearn.ensemble.VotingClassifier.html) to build this type of ensemble."
   ]
  },
  {
   "cell_type": "code",
   "execution_count": 58,
   "metadata": {},
   "outputs": [
    {
     "name": "stdout",
     "output_type": "stream",
     "text": [
      "############### Voting Ensemble ###############\n",
      "Accuraccy:  0.5654761904761905\n",
      "\n",
      "Confusion Matrix:\n",
      "  [[152  13]\n",
      " [133  38]]\n",
      "\n",
      "Classification Report:\n",
      "                precision    recall  f1-score   support\n",
      "\n",
      "           0       0.53      0.92      0.68       165\n",
      "           1       0.75      0.22      0.34       171\n",
      "\n",
      "    accuracy                           0.57       336\n",
      "   macro avg       0.64      0.57      0.51       336\n",
      "weighted avg       0.64      0.57      0.51       336\n",
      "\n"
     ]
    }
   ],
   "source": [
    "#creating the models\n",
    "models = []\n",
    "model_1 = SVC()\n",
    "model_2 = DecisionTreeClassifier()\n",
    "models.append(('SVM', model_1))\n",
    "models.append(('Decision Tree', model_2))\n",
    "\n",
    "#creating the voting ensemble\n",
    "voting_ensemble = VotingClassifier(models)\n",
    "voting_ensemble.fit(X_train, y_train)\n",
    "y_pred_voting_ensemble_test = voting_ensemble.predict(X_test)\n",
    "res_voting_ensemble = voting_ensemble.score(X_test, y_test)\n",
    "conf_mat_voting_ensemble = confusion_matrix(y_test, y_pred_voting_ensemble_test)\n",
    "class_report_VE_test = classification_report(y_test, y_pred_voting_ensemble_test)\n",
    "\n",
    "print('############### Voting Ensemble ###############')\n",
    "print('Accuraccy: ', res_voting_ensemble)\n",
    "print('\\nConfusion Matrix:\\n ', conf_mat_voting_ensemble)\n",
    "print('\\nClassification Report:\\n ', class_report_VE_test)\n"
   ]
  },
  {
   "cell_type": "markdown",
   "metadata": {
    "colab_type": "text",
    "id": "ocJiGPkJKLjY"
   },
   "source": [
    "### Bagging ensemble: Random Forest"
   ]
  },
  {
   "cell_type": "markdown",
   "metadata": {
    "colab_type": "text",
    "id": "LQMj5ap5KLjZ"
   },
   "source": [
    "[**EX14**][**CODE**][**REPORT**] Build a **Bagging** ensemble based on Random Forest. Random Forest is considered a bagging ensemble formed by Decision Trees algorithms. Train the Random Forest with the balanced training dataset, i.e. `X_train` and `y_train`. Calculate the **precision**, **recall** and **confusion matrix** of the new classifier. Is it better than any of the previous baseline models? Justify your answer.\n",
    "\n",
    "Tip: You may use [RandomForestClassifier()](https://scikit-learn.org/stable/modules/generated/sklearn.ensemble.RandomForestClassifier.html) to build this type of ensemble."
   ]
  },
  {
   "cell_type": "code",
   "execution_count": 59,
   "metadata": {},
   "outputs": [
    {
     "name": "stdout",
     "output_type": "stream",
     "text": [
      "############### Random Forest ###############\n",
      "Accuraccy:  0.625\n",
      "\n",
      "Confusion Matrix:\n",
      "  [[101  64]\n",
      " [ 62 109]]\n",
      "\n",
      "Classification Report:\n",
      "                precision    recall  f1-score   support\n",
      "\n",
      "           0       0.62      0.61      0.62       165\n",
      "           1       0.63      0.64      0.63       171\n",
      "\n",
      "    accuracy                           0.62       336\n",
      "   macro avg       0.62      0.62      0.62       336\n",
      "weighted avg       0.62      0.62      0.62       336\n",
      "\n"
     ]
    }
   ],
   "source": [
    "#creating the random forrest\n",
    "random_forest = RandomForestClassifier()\n",
    "random_forest.fit(X_train, y_train)\n",
    "y_pred_random_forest_test = random_forest.predict(X_test)\n",
    "res_random_forest = random_forest.score(X_test, y_test)\n",
    "conf_mat_random_forest = confusion_matrix(y_test, y_pred_random_forest_test)\n",
    "class_report_RF_test = classification_report(y_test, y_pred_random_forest_test)\n",
    "\n",
    "print('############### Random Forest ###############')\n",
    "print('Accuraccy: ', res_random_forest)\n",
    "print('\\nConfusion Matrix:\\n ', conf_mat_random_forest)\n",
    "print('\\nClassification Report:\\n ', class_report_RF_test)"
   ]
  },
  {
   "cell_type": "markdown",
   "metadata": {
    "colab_type": "text",
    "id": "4G08f_aEKLjd"
   },
   "source": [
    "[**EX15**][**REPORT**] Plot the histograms of the probabilities resulting of the prediction of the Random Forest model for class 0 and class 1."
   ]
  },
  {
   "cell_type": "code",
   "execution_count": 115,
   "metadata": {},
   "outputs": [
    {
     "data": {
      "text/plain": [
       "Text(0.5, 1.0, 'Histogram of probability for Target = 1, Random Forest')"
      ]
     },
     "execution_count": 115,
     "metadata": {},
     "output_type": "execute_result"
    },
    {
     "data": {
      "image/png": "[encoded data removed]",
      "text/plain": [
       "<Figure size 432x288 with 1 Axes>"
      ]
     },
     "metadata": {
      "needs_background": "light"
     },
     "output_type": "display_data"
    }
   ],
   "source": [
    "y_prob_RF = random_forest.predict_proba(X_test)[:,1]\n",
    "\n",
    "plt.hist(y_prob_RF, bins = 50)\n",
    "plt.title('Histogram of probability for Target = 1, Random Forest')"
   ]
  },
  {
   "cell_type": "markdown",
   "metadata": {
    "colab_type": "text",
    "id": "K9Vbyi1lKLjg"
   },
   "source": [
    "### Boosting ensemble: Gradient Tree Boosting"
   ]
  },
  {
   "cell_type": "markdown",
   "metadata": {
    "colab_type": "text",
    "id": "VTZvSgz8KLji"
   },
   "source": [
    "[**EX16**][**CODE**][**REPORT**] Build a **Boosting** ensemble based on Gradient Tree Boosting (GBT). There are several boosting algorithms as Adaboost, etc.  Train the GBT with the balanced training dataset, i.e. `X_train` and `y_train`. Calculate the **precision**, **recall** and **confusion matrix** of the new classifier. Is it better than any of the previous baseline models? Justify your answer.\n",
    "\n",
    "Tip: You may use [GradientBoostingClassifier](https://scikit-learn.org/stable/modules/generated/sklearn.ensemble.GradientBoostingClassifier.html) to build this type of ensemble."
   ]
  },
  {
   "cell_type": "code",
   "execution_count": 61,
   "metadata": {},
   "outputs": [
    {
     "name": "stdout",
     "output_type": "stream",
     "text": [
      "############### Gradient Boosting ###############\n",
      "Accuraccy:  0.6190476190476191\n",
      "\n",
      "Confusion Matrix:\n",
      "  [[ 91  74]\n",
      " [ 54 117]]\n",
      "\n",
      "Classification Report:\n",
      "                precision    recall  f1-score   support\n",
      "\n",
      "           0       0.63      0.55      0.59       165\n",
      "           1       0.61      0.68      0.65       171\n",
      "\n",
      "    accuracy                           0.62       336\n",
      "   macro avg       0.62      0.62      0.62       336\n",
      "weighted avg       0.62      0.62      0.62       336\n",
      "\n"
     ]
    }
   ],
   "source": [
    "#creating the gradient booster\n",
    "gradient_boosting = GradientBoostingClassifier()\n",
    "gradient_boosting.fit(X_train, y_train)\n",
    "y_pred_gradient_boosting_test = gradient_boosting.predict(X_test)\n",
    "res_gradient_boosting = gradient_boosting.score(X_test, y_test)\n",
    "conf_mat_gradient_boosting = confusion_matrix(y_test, y_pred_gradient_boosting_test)\n",
    "class_report_GBT_test = classification_report(y_test, y_pred_gradient_boosting_test)\n",
    "\n",
    "print('############### Gradient Boosting ###############')\n",
    "print('Accuraccy: ', res_gradient_boosting)\n",
    "print('\\nConfusion Matrix:\\n ', conf_mat_gradient_boosting)\n",
    "print('\\nClassification Report:\\n ', class_report_GBT_test)"
   ]
  },
  {
   "cell_type": "markdown",
   "metadata": {
    "colab_type": "text",
    "id": "KLwM8rn_KLjl"
   },
   "source": [
    "[**EX17**][**REPORT**] Plot the histograms of the probabilities resulting of the prediction of the GBT model for class 0 and class 1. Compare it with histogram of Random Forest. Which one classifies better from your point of view? Why? "
   ]
  },
  {
   "cell_type": "code",
   "execution_count": 114,
   "metadata": {},
   "outputs": [
    {
     "data": {
      "text/plain": [
       "Text(0.5, 1.0, 'Histogram of probability for Target = 1, Gradient Boosting')"
      ]
     },
     "execution_count": 114,
     "metadata": {},
     "output_type": "execute_result"
    },
    {
     "data": {
      "image/png": "[encoded data removed]",
      "text/plain": [
       "<Figure size 432x288 with 1 Axes>"
      ]
     },
     "metadata": {
      "needs_background": "light"
     },
     "output_type": "display_data"
    }
   ],
   "source": [
    "y_prob_GB = gradient_boosting.predict_proba(X_test)[:,1]\n",
    "\n",
    "plt.hist(y_prob_GB, bins = 50)\n",
    "plt.title('Histogram of probability for Target = 1, Gradient Boosting')\n",
    "\n"
   ]
  },
  {
   "cell_type": "markdown",
   "metadata": {
    "colab_type": "text",
    "id": "UvbS-zysKLjq"
   },
   "source": [
    "# 3. Creating a Business opportunity with Machine Learning"
   ]
  },
  {
   "cell_type": "markdown",
   "metadata": {
    "colab_type": "text",
    "id": "oYWmrLYQKLjP"
   },
   "source": [
    "The cut-off is the **threshold of the probability of the prediction** to assign to class 0 or class 1 the prediction. If probability > cut-off, the model classifies as 1; otherwise, model classifies as 0. \n",
    "The cut-off is a value that can be adjusted to increase the recall or the precision. Usually, there is a **trade-off** between improving the recall-precision."
   ]
  },
  {
   "cell_type": "markdown",
   "metadata": {
    "colab_type": "text",
    "id": "XBhZ9VKgKLjq"
   },
   "source": [
    "[**EX18**][**CODE**][**REPORT**] Execute the prediction for the selected model. Adjust the cutoff value to optimize the classifier if you consider necessary. How many **non customers** are you going to send to the sales managers to sell our products to them?\n",
    "\n",
    "\n"
   ]
  },
  {
   "cell_type": "code",
   "execution_count": 126,
   "metadata": {},
   "outputs": [
    {
     "name": "stdout",
     "output_type": "stream",
     "text": [
      "Confusion Matrix:\n",
      " [[ 81  84]\n",
      " [ 41 130]]\n",
      "\n",
      "Classification Report:\n",
      "                precision    recall  f1-score   support\n",
      "\n",
      "           0       0.66      0.49      0.56       165\n",
      "           1       0.61      0.76      0.68       171\n",
      "\n",
      "    accuracy                           0.63       336\n",
      "   macro avg       0.64      0.63      0.62       336\n",
      "weighted avg       0.64      0.63      0.62       336\n",
      "\n"
     ]
    }
   ],
   "source": [
    "#adjusting the output of the classes by changing the cutoff\n",
    "def adjusted_classes(y_scores, t):\n",
    "    return [1 if y >= t else 0 for y in y_scores]\n",
    "\n",
    "#experimenting to find optimal cutoff\n",
    "cutoff = 0.46\n",
    "y_pred_GB_adj = adjusted_classes(y_prob_GB, cutoff)\n",
    "conf_mat_GB_adj = confusion_matrix(y_test, y_pred_GB_adj)\n",
    "class_report_GB_adj = classification_report(y_test, y_pred_GB_adj)\n",
    "\n",
    "print('Confusion Matrix:\\n', conf_mat_GB_adj)\n",
    "print('\\nClassification Report:\\n ', class_report_GB_adj)\n"
   ]
  },
  {
   "cell_type": "markdown",
   "metadata": {
    "colab_type": "text",
    "id": "2OKOVuCNKLjt"
   },
   "source": [
    "Usually, Marketing department needs to know and understand the main features of the algorithms. The code below returns the importance of each feature of the `training_dataset`."
   ]
  },
  {
   "cell_type": "code",
   "execution_count": 66,
   "metadata": {
    "colab": {},
    "colab_type": "code",
    "id": "nX4VfjM4KLjt"
   },
   "outputs": [
    {
     "data": {
      "text/plain": [
       "[['City_coded', 0.13243986573475086],\n",
       " ['Revenue', 0.0978701939251656],\n",
       " ['Sector', 0.10179753573398068],\n",
       " ['Legal_Form_Code', 0.0773243578733948],\n",
       " ['CNT_EMPLOYEE', 0.07496209220217445],\n",
       " ['CNT_CB_DENSITY', 0.15649270078402414],\n",
       " ['CNT_CB_MOB_DENSITY', 0.05431237195042798],\n",
       " ['CNT_CB_FN_DENS', 0.11602890774407222],\n",
       " ['Mobile_potential', 0.18877197405200938]]"
      ]
     },
     "execution_count": 66,
     "metadata": {},
     "output_type": "execute_result"
    }
   ],
   "source": [
    "features=['City_coded','Revenue', 'Sector', 'Legal_Form_Code', 'CNT_EMPLOYEE', 'CNT_CB_DENSITY',\n",
    "                            'CNT_CB_MOB_DENSITY', 'CNT_CB_FN_DENS', 'Mobile_potential']\n",
    "features_values=gradient_boosting.feature_importances_\n",
    "features_importance=[]\n",
    "for i in range (len(features)):\n",
    "    features_importance.append([features[i],features_values[i]])\n",
    "features_importance"
   ]
  },
  {
   "cell_type": "markdown",
   "metadata": {
    "colab_type": "text",
    "id": "3gE_DYCvKLjw"
   },
   "source": [
    "[**EX19**][**CODE**][**REPORT**] Order the features by importance. Which are the top 3 features to discriminate between **non customers** and **customers**?"
   ]
  },
  {
   "cell_type": "code",
   "execution_count": 71,
   "metadata": {},
   "outputs": [
    {
     "data": {
      "text/plain": [
       "[['Mobile_potential', 0.18877197405200938],\n",
       " ['CNT_CB_DENSITY', 0.15649270078402414],\n",
       " ['City_coded', 0.13243986573475086],\n",
       " ['CNT_CB_FN_DENS', 0.11602890774407222],\n",
       " ['Sector', 0.10179753573398068],\n",
       " ['Revenue', 0.0978701939251656],\n",
       " ['Legal_Form_Code', 0.0773243578733948],\n",
       " ['CNT_EMPLOYEE', 0.07496209220217445],\n",
       " ['CNT_CB_MOB_DENSITY', 0.05431237195042798]]"
      ]
     },
     "execution_count": 71,
     "metadata": {},
     "output_type": "execute_result"
    }
   ],
   "source": [
    "def takeSecond(elem):\n",
    "    return elem[1]\n",
    "\n",
    "features_importance.sort(reverse = True, key = takeSecond)\n",
    "\n",
    "features_importance"
   ]
  },
  {
   "cell_type": "markdown",
   "metadata": {
    "colab_type": "text",
    "id": "-htmJrDzKLjy"
   },
   "source": [
    " [**EX20**][**REPORT**] In this project, we have used classification techniques to identify potential customers. We have adjusted the main classification parameters as cutoff, recall and precision according to the final purpose: in out case, identify **non customers** that could be interested to buy our products. Consider a new campaign focused on accelerating the sales of an **existing mobile tariff** to our customers. Answer the following questions:\n",
    "- In this case, which is the **target** variable? Which are **target=0** samples? And **target=1**?\n",
    "- As the marketing campaing is oriented to our customers we will have further information about them in our internal systems. In particular, we could add to the information of the previous section 3 new variables: data and voice consumption and mobile expense. Adding more data to the dataset may imply more computational data and cost. Would you add these 3 new variables to dataset? Justify your answer.\n",
    "- Today the mobile tariff is not very popular among our customers. Will the training dataset be balanced or unbalanced? Justify your answer.\n",
    "\n",
    "Imagine the following scatter plot (`monthly data traffic` vs `monthly voice traffic`):\n",
    "\n",
    "![<scatter_plot>](scatter_plot.png)\n",
    "- Describe in terms of `monthly data traffic` and `monthly voice traffic` the **pattern** of target 1 customers\n",
    "- Draw a plane to separate both classes\n",
    "- According to the previous plane, which are the customers to be phoned to sell the mobile tariff?\n",
    "- Could you estimate the **precision** and **recall** of the classification?"
   ]
  },
  {
   "cell_type": "markdown",
   "metadata": {
    "colab_type": "text",
    "id": "WqGzZF61KLjy"
   },
   "source": [
    "*******"
   ]
  },
  {
   "cell_type": "markdown",
   "metadata": {
    "colab_type": "text",
    "id": "d90P5bXGKLjz"
   },
   "source": [
    "# Deliver"
   ]
  },
  {
   "cell_type": "markdown",
   "metadata": {
    "colab_type": "text",
    "id": "vsdxRz2aKLj0"
   },
   "source": [
    "Deliver:\n",
    "\n",
    "* A zip file containing your notebook (.ipynb file) with all the [**CODE**] parts implemented.\n",
    "* A 5-pages PDF report including all parts of this notebook marked with \"[**REPORT**]\"\n",
    "\n",
    "The report should end with the following statement: **We hereby declare that, except for the code provided by the course instructors, all of our code, report, and figures were produced by ourselves.**"
   ]
  },
  {
   "cell_type": "code",
   "execution_count": null,
   "metadata": {
    "colab": {},
    "colab_type": "code",
    "id": "Rwqgx07mKLj0"
   },
   "outputs": [],
   "source": []
  }
 ],
 "metadata": {
  "colab": {
   "name": "P02_Classification.ipynb",
   "provenance": []
  },
  "kernelspec": {
   "display_name": "Python 3",
   "language": "python",
   "name": "python3"
  },
  "language_info": {
   "codemirror_mode": {
    "name": "ipython",
    "version": 3
   },
   "file_extension": ".py",
   "mimetype": "text/x-python",
   "name": "python",
   "nbconvert_exporter": "python",
   "pygments_lexer": "ipython3",
   "version": "3.7.6"
  }
 },
 "nbformat": 4,
 "nbformat_minor": 4
}
